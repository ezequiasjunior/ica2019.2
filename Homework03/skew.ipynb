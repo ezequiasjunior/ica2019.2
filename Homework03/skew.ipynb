{
 "nbformat": 4,
 "nbformat_minor": 2,
 "metadata": {
  "language_info": {
   "name": "python",
   "codemirror_mode": {
    "name": "ipython",
    "version": 3
   },
   "version": "3.7.3"
  },
  "orig_nbformat": 2,
  "file_extension": ".py",
  "mimetype": "text/x-python",
  "name": "python",
  "npconvert_exporter": "python",
  "pygments_lexer": "ipython3",
  "version": 3
 },
 "cells": [
  {
   "cell_type": "code",
   "execution_count": 1,
   "metadata": {},
   "outputs": [],
   "source": [
    "import numpy as np\n",
    "import pandas as pd\n",
    "from scipy.stats import yeojohnson"
   ]
  },
  {
   "cell_type": "code",
   "execution_count": 2,
   "metadata": {},
   "outputs": [],
   "source": [
    "def split_data(data, rate):\n",
    "    # Splits up a dataset in a given ratio, returning the training and test sets.\n",
    "    # number of observations:\n",
    "    n = data.shape[0]\n",
    "    # permute the indices randomly:\n",
    "    idx = np.random.permutation(n)\n",
    "    train_set = data.iloc[idx[:int(n*rate)]] # training: n*rate frist rows\n",
    "    valid_set = data.iloc[idx[int(n*rate):]] # validation: the rest\n",
    "    return train_set, valid_set\n",
    "\n",
    "def resolve_skewness(x):\n",
    "    # Remove the skew of the vector 1-d x using the Yeo-Johnson \n",
    "    # family of transformations.\n",
    "    return yeojohnson(x)[0]"
   ]
  },
  {
   "cell_type": "code",
   "execution_count": 19,
   "metadata": {},
   "outputs": [],
   "source": [
    "df = pd.read_excel('Homework03/hw3-data/cls_trated_mos_data.xlsx')\n",
    "df = df.drop(columns='Unnamed: 0')\n",
    "treino,teste = split_data(df,9/10)\n",
    "treino_Y = treino['MOS']\n",
    "teste_y = teste['MOS']\n",
    "treino = treino.drop(columns='MOS')\n",
    "teste = teste.drop(columns = 'MOS')"
   ]
  },
  {
   "cell_type": "code",
   "execution_count": 20,
   "metadata": {},
   "outputs": [],
   "source": [
    "treino = treino.apply(resolve_skewness)\n",
    "teste = teste.apply(resolve_skewness)"
   ]
  },
  {
   "cell_type": "code",
   "execution_count": 25,
   "metadata": {},
   "outputs": [],
   "source": [
    "treino.to_excel('Homework03/hw3-data/treino_unskew.xlsx',index= False)\n",
    "teste.to_excel('Homework03/hw3-data/teste_unskew.xlsx',index=False)\n",
    "treino_Y.to_excel('Homework03/hw3-data/MOS_treino.xlsx',index=False)\n",
    "teste_y.to_excel('Homework03/hw3-data/MOS_teste.xlsx',index = False)"
   ]
  },
  {
   "cell_type": "code",
   "execution_count": 15,
   "metadata": {},
   "outputs": [],
   "source": [
    "df_unskew = df.apply(resolve_skewness)"
   ]
  },
  {
   "cell_type": "code",
   "execution_count": 18,
   "metadata": {},
   "outputs": [
    {
     "data": {
      "text/plain": "Test Hour                  -0.010144\nSignal (dBm)               -0.074645\nSpeed (m/s)                 0.688934\nDistance from site (m)      0.052228\nCall Test Duration (s)      0.004234\nCall Test Setup Time (s)    0.071753\ndtype: float64"
     },
     "execution_count": 18,
     "metadata": {},
     "output_type": "execute_result"
    }
   ],
   "source": [
    "df_unskew.apply(resolve_skewness).skew()"
   ]
  },
  {
   "cell_type": "code",
   "execution_count": 17,
   "metadata": {},
   "outputs": [
    {
     "data": {
      "text/plain": "Unnamed: 0                  0.004564\nTest Hour                  -0.171759\nSignal (dBm)                0.148468\nSpeed (m/s)                 1.884153\nDistance from site (m)      1.175011\nCall Test Duration (s)      0.004237\nCall Test Setup Time (s)   -1.982931\nMOS                         1.149814\ndtype: float64"
     },
     "execution_count": 17,
     "metadata": {},
     "output_type": "execute_result"
    }
   ],
   "source": []
  }
 ]
}