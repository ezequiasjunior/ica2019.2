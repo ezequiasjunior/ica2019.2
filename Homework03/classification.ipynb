{
 "nbformat": 4,
 "nbformat_minor": 2,
 "metadata": {
  "language_info": {
   "name": "python",
   "codemirror_mode": {
    "name": "ipython",
    "version": 3
   }
  },
  "orig_nbformat": 2,
  "file_extension": ".py",
  "mimetype": "text/x-python",
  "name": "python",
  "npconvert_exporter": "python",
  "pygments_lexer": "ipython3",
  "version": 3
 },
 "cells": [
  {
   "cell_type": "code",
   "execution_count": 62,
   "metadata": {},
   "outputs": [],
   "source": [
    "import numpy as np\n",
    "import pandas as pd\n",
    "import matplotlib.pyplot as plt\n",
    "import seaborn as sns\n",
    "from sklearn.discriminant_analysis import LinearDiscriminantAnalysis\n",
    "from sklearn.discriminant_analysis import QuadraticDiscriminantAnalysis\n",
    "from sklearn.neighbors import KNeighborsClassifier\n",
    "from sklearn.metrics import confusion_matrix\n",
    "from sklearn.neural_network import MLPClassifier"
   ]
  },
  {
   "cell_type": "markdown",
   "execution_count": null,
   "metadata": {},
   "outputs": [],
   "source": [
    "# 1 - Modelo de Classificação Linear"
   ]
  },
  {
   "cell_type": "code",
   "execution_count": 4,
   "metadata": {},
   "outputs": [],
   "source": [
    "# Inicialização do LDA\n",
    "lda = LinearDiscriminantAnalysis()"
   ]
  },
  {
   "cell_type": "code",
   "execution_count": 5,
   "metadata": {},
   "outputs": [],
   "source": [
    "# Carregando conjunto de treino e teste\n",
    "treino = pd.read_excel('Homework03/hw3-data/cls_trated_train_set.xlsx')\n",
    "teste = pd.read_excel('Homework03/hw3-data/cls_trated_test_set.xlsx')"
   ]
  },
  {
   "cell_type": "code",
   "execution_count": 6,
   "metadata": {},
   "outputs": [],
   "source": [
    "# Organizando os conjuntos\n",
    "treino = treino.drop(columns=['Unnamed: 0'])\n",
    "teste = teste.drop(columns=['Unnamed: 0'])\n",
    "x_treino = treino.T.iloc[0:-1]\n",
    "y_treino = treino['MOS']\n",
    "x_teste = teste.T.iloc[0:-1]\n",
    "y_teste = teste['MOS']\n",
    "x_treino,x_teste,y_treino,y_teste = x_treino.T,x_teste.T,y_treino.T,y_teste.T"
   ]
  },
  {
   "cell_type": "code",
   "execution_count": 7,
   "metadata": {},
   "outputs": [
    {
     "name": "stdout",
     "output_type": "stream",
     "text": "A análise de discriminante linear conseguiu prever 57.42% das amostras\n\nConfusion Matrix: \n [[1363  659    8    0   15]\n [ 182 1188    1    0    4]\n [ 163   27    8    0   18]\n [  15  104    3    0    1]\n [ 416  300   16    0   46]]\n"
    }
   ],
   "source": [
    "lda.fit(x_treino,y_treino) # Treinando o LDA\n",
    "pred = lda.predict(x_teste) # Testando o LDA\n",
    "CM = confusion_matrix(y_teste,pred) # Cálculo da confusion matrix\n",
    "pont = lda.score(x_teste,y_teste) # Cálculo da precisão\n",
    "print(f'A análise de discriminante linear conseguiu prever {100*pont:.4}% das amostras')\n",
    "print(f'\\nConfusion Matrix: \\n {CM}')"
   ]
  },
  {
   "cell_type": "markdown",
   "execution_count": null,
   "metadata": {},
   "outputs": [],
   "source": [
    "# 2 - Modelo de Classificação não Linear"
   ]
  },
  {
   "cell_type": "markdown",
   "execution_count": null,
   "metadata": {},
   "outputs": [],
   "source": [
    "## 2.1 - Análise de discriminante quadratico"
   ]
  },
  {
   "cell_type": "code",
   "execution_count": 8,
   "metadata": {},
   "outputs": [],
   "source": [
    "#Inicialização do QDA\n",
    "qda = QuadraticDiscriminantAnalysis()"
   ]
  },
  {
   "cell_type": "code",
   "execution_count": 9,
   "metadata": {},
   "outputs": [
    {
     "name": "stdout",
     "output_type": "stream",
     "text": "A análise de discriminante linear conseguiu prever 57.57% das amostras\n\nConfusion Matrix: \n [[1327  622   44   13   39]\n [ 210 1131   10    9   15]\n [ 132   25   31    0   28]\n [  20   70    7   23    3]\n [ 351  280   45    2  100]]\n"
    }
   ],
   "source": [
    "qda.fit(x_treino,y_treino) # Treinando o QDA\n",
    "pred_qda = qda.predict(x_teste) # Testando o QDA\n",
    "CM_qda = confusion_matrix(y_teste,pred_qda) # Cálculo da confusion matrix\n",
    "pont_qda = qda.score(x_teste,y_teste) # Cálculo da precisão\n",
    "print(f'A análise de discriminante linear conseguiu prever {100*pont_qda:.4}% das amostras')\n",
    "print(f'\\nConfusion Matrix: \\n {CM_qda}')"
   ]
  },
  {
   "cell_type": "markdown",
   "execution_count": null,
   "metadata": {},
   "outputs": [],
   "source": [
    "## 2.2 - k-Nearest Neighbors"
   ]
  },
  {
   "cell_type": "code",
   "execution_count": 59,
   "metadata": {},
   "outputs": [],
   "source": [
    "#Inicialização dos KNN's com k = [1,3,5,7,9,11,13,15,17,19,21,23,25,27,29,31,35,41]\n",
    "knn_ = KNeighborsClassifier(n_neighbors=1), KNeighborsClassifier(n_neighbors=3), KNeighborsClassifier(n_neighbors=5),KNeighborsClassifier(n_neighbors=7),KNeighborsClassifier(n_neighbors=9),KNeighborsClassifier(n_neighbors=11),KNeighborsClassifier(n_neighbors=13),KNeighborsClassifier(n_neighbors=15),KNeighborsClassifier(n_neighbors=17),KNeighborsClassifier(n_neighbors=19),KNeighborsClassifier(n_neighbors=21),KNeighborsClassifier(n_neighbors=23),KNeighborsClassifier(n_neighbors=25),KNeighborsClassifier(n_neighbors=27),KNeighborsClassifier(n_neighbors=29),KNeighborsClassifier(n_neighbors=31),KNeighborsClassifier(n_neighbors=35),KNeighborsClassifier(n_neighbors=41)"
   ]
  },
  {
   "cell_type": "code",
   "execution_count": 61,
   "metadata": {},
   "outputs": [
    {
     "name": "stdout",
     "output_type": "stream",
     "text": "O K-Nearest neighbors k=1 conseguiu prever 47.81% das amostras\n\nConfusion Matrix: \n [[1215.  492.   81.   30.  227.]\n [ 489.  638.   21.   31.  196.]\n [  73.   20.   42.    8.   73.]\n [  24.   41.    6.   30.   22.]\n [ 255.  196.   67.   16.  244.]]\nO K-Nearest neighbors k=3 conseguiu prever 54.07% das amostras\n\nConfusion Matrix: \n [[1485.  417.   23.   15.  105.]\n [ 577.  704.    4.   12.   78.]\n [  96.   14.   27.    7.   72.]\n [  48.   34.    3.   26.   12.]\n [ 347.  170.   45.    5.  211.]]\nO K-Nearest neighbors k=5 conseguiu prever 56.54% das amostras\n\nConfusion Matrix: \n [[1504.  436.   29.   12.   64.]\n [ 520.  794.    6.   11.   44.]\n [  99.   13.   24.    9.   71.]\n [  40.   36.    3.   28.   16.]\n [ 320.  195.   43.    5.  215.]]\nO K-Nearest neighbors k=7 conseguiu prever 57.81% das amostras\n\nConfusion Matrix: \n [[1494.  442.   23.   16.   70.]\n [ 481.  838.    3.   11.   42.]\n [  98.   13.   22.    4.   79.]\n [  34.   43.    3.   29.   14.]\n [ 309.  196.   31.    2.  240.]]\nO K-Nearest neighbors k=9 conseguiu prever 58.61% das amostras\n\nConfusion Matrix: \n [[1497.  444.   20.   13.   71.]\n [ 446.  876.    2.   13.   38.]\n [  97.   16.   20.    2.   81.]\n [  35.   46.    2.   26.   14.]\n [ 291.  219.   26.    2.  240.]]\nO K-Nearest neighbors k=11 conseguiu prever 59.09% das amostras\n\nConfusion Matrix: \n [[1.465e+03 4.800e+02 1.700e+01 1.700e+01 6.600e+01]\n [4.040e+02 9.230e+02 3.000e+00 1.800e+01 2.700e+01]\n [9.900e+01 1.600e+01 1.300e+01 3.000e+00 8.500e+01]\n [3.200e+01 4.400e+01 1.000e+00 3.000e+01 1.600e+01]\n [2.840e+02 2.190e+02 2.300e+01 2.000e+00 2.500e+02]]\nO K-Nearest neighbors k=13 conseguiu prever 59.29% das amostras\n\nConfusion Matrix: \n [[1.442e+03 4.970e+02 1.300e+01 2.000e+01 7.300e+01]\n [3.850e+02 9.450e+02 3.000e+00 1.700e+01 2.500e+01]\n [1.040e+02 1.500e+01 1.100e+01 2.000e+00 8.400e+01]\n [2.600e+01 4.800e+01 1.000e+00 3.300e+01 1.500e+01]\n [2.730e+02 2.280e+02 1.600e+01 2.000e+00 2.590e+02]]\nO K-Nearest neighbors k=15 conseguiu prever 59.22% das amostras\n\nConfusion Matrix: \n [[1.425e+03 5.160e+02 1.500e+01 2.100e+01 6.800e+01]\n [3.720e+02 9.640e+02 2.000e+00 1.400e+01 2.300e+01]\n [1.070e+02 1.400e+01 6.000e+00 2.000e+00 8.700e+01]\n [2.300e+01 5.000e+01 2.000e+00 3.600e+01 1.200e+01]\n [2.710e+02 2.340e+02 1.600e+01 1.000e+00 2.560e+02]]\nO K-Nearest neighbors k=17 conseguiu prever 59.6% das amostras\n\nConfusion Matrix: \n [[1.422e+03 5.260e+02 1.200e+01 2.100e+01 6.400e+01]\n [3.550e+02 9.830e+02 3.000e+00 1.300e+01 2.100e+01]\n [1.060e+02 1.800e+01 5.000e+00 2.000e+00 8.500e+01]\n [2.100e+01 4.900e+01 3.000e+00 3.800e+01 1.200e+01]\n [2.590e+02 2.460e+02 1.600e+01 1.000e+00 2.560e+02]]\nO K-Nearest neighbors k=19 conseguiu prever 60.41% das amostras\n\nConfusion Matrix: \n [[1.424e+03 5.280e+02 8.000e+00 2.000e+01 6.500e+01]\n [3.250e+02 1.013e+03 2.000e+00 1.400e+01 2.100e+01]\n [1.020e+02 1.900e+01 6.000e+00 2.000e+00 8.700e+01]\n [2.000e+01 5.200e+01 2.000e+00 3.800e+01 1.100e+01]\n [2.600e+02 2.440e+02 1.300e+01 1.000e+00 2.600e+02]]\nO K-Nearest neighbors k=21 conseguiu prever 60.37% das amostras\n\nConfusion Matrix: \n [[1.411e+03 5.440e+02 1.200e+01 1.900e+01 5.900e+01]\n [3.090e+02 1.027e+03 1.000e+00 1.400e+01 2.400e+01]\n [1.040e+02 1.900e+01 8.000e+00 2.000e+00 8.300e+01]\n [2.200e+01 5.100e+01 1.000e+00 3.800e+01 1.100e+01]\n [2.580e+02 2.530e+02 1.100e+01 1.000e+00 2.550e+02]]\nO K-Nearest neighbors k=23 conseguiu prever 60.57% das amostras\n\nConfusion Matrix: \n [[1.404e+03 5.520e+02 1.100e+01 1.900e+01 5.900e+01]\n [3.000e+02 1.038e+03 0.000e+00 1.400e+01 2.300e+01]\n [1.070e+02 1.800e+01 1.000e+01 2.000e+00 7.900e+01]\n [2.500e+01 4.900e+01 1.000e+00 3.900e+01 9.000e+00]\n [2.590e+02 2.520e+02 9.000e+00 1.000e+00 2.570e+02]]\nO K-Nearest neighbors k=25 conseguiu prever 60.9% das amostras\n\nConfusion Matrix: \n [[1.407e+03 5.470e+02 9.000e+00 2.000e+01 6.200e+01]\n [2.850e+02 1.053e+03 0.000e+00 1.500e+01 2.200e+01]\n [1.050e+02 1.900e+01 7.000e+00 2.000e+00 8.300e+01]\n [2.100e+01 5.200e+01 2.000e+00 3.800e+01 1.000e+01]\n [2.610e+02 2.520e+02 6.000e+00 1.000e+00 2.580e+02]]\nO K-Nearest neighbors k=27 conseguiu prever 61.16% das amostras\n\nConfusion Matrix: \n [[1.401e+03 5.510e+02 8.000e+00 2.100e+01 6.400e+01]\n [2.720e+02 1.065e+03 0.000e+00 1.500e+01 2.300e+01]\n [1.050e+02 2.000e+01 5.000e+00 2.000e+00 8.400e+01]\n [1.800e+01 5.400e+01 2.000e+00 3.900e+01 1.000e+01]\n [2.550e+02 2.520e+02 5.000e+00 1.000e+00 2.650e+02]]\nO K-Nearest neighbors k=29 conseguiu prever 61.16% das amostras\n\nConfusion Matrix: \n [[1.392e+03 5.610e+02 8.000e+00 2.100e+01 6.300e+01]\n [2.630e+02 1.075e+03 0.000e+00 1.500e+01 2.200e+01]\n [1.070e+02 2.000e+01 5.000e+00 2.000e+00 8.200e+01]\n [1.900e+01 5.300e+01 1.000e+00 3.900e+01 1.100e+01]\n [2.540e+02 2.530e+02 5.000e+00 2.000e+00 2.640e+02]]\nO K-Nearest neighbors k=31 conseguiu prever 61.03% das amostras\n\nConfusion Matrix: \n [[1.387e+03 5.680e+02 4.000e+00 2.100e+01 6.500e+01]\n [2.640e+02 1.072e+03 0.000e+00 1.400e+01 2.500e+01]\n [1.040e+02 2.000e+01 5.000e+00 2.000e+00 8.500e+01]\n [1.400e+01 5.700e+01 2.000e+00 3.900e+01 1.100e+01]\n [2.500e+02 2.560e+02 5.000e+00 1.000e+00 2.660e+02]]\nO K-Nearest neighbors k=35 conseguiu prever 61.14% das amostras\n\nConfusion Matrix: \n [[1.371e+03 5.870e+02 4.000e+00 2.100e+01 6.200e+01]\n [2.440e+02 1.096e+03 0.000e+00 1.300e+01 2.200e+01]\n [1.020e+02 2.100e+01 5.000e+00 3.000e+00 8.500e+01]\n [1.400e+01 5.900e+01 1.000e+00 3.700e+01 1.200e+01]\n [2.430e+02 2.650e+02 4.000e+00 1.000e+00 2.650e+02]]\nO K-Nearest neighbors k=41 conseguiu prever 60.99% das amostras\n\nConfusion Matrix: \n [[1.361e+03 5.950e+02 3.000e+00 2.200e+01 6.400e+01]\n [2.340e+02 1.107e+03 0.000e+00 1.300e+01 2.100e+01]\n [1.000e+02 2.300e+01 4.000e+00 3.000e+00 8.600e+01]\n [1.500e+01 6.100e+01 1.000e+00 3.800e+01 8.000e+00]\n [2.490e+02 2.680e+02 3.000e+00 1.000e+00 2.570e+02]]\n"
    }
   ],
   "source": [
    "pred_knn = np.zeros([len(x_teste),len(knn_)])\n",
    "CM_knn = np.zeros([len(knn_),5,5])\n",
    "pont_knn = np.zeros(len(knn_))\n",
    "for i in range(len(knn_)):\n",
    "    knn_[i].fit(x_treino,y_treino)\n",
    "    pred_knn[:,i] = knn_[i].predict(x_teste)\n",
    "    CM_knn[i,:,:] = confusion_matrix(y_teste,pred_knn[:,i])\n",
    "    pont_knn[i] = knn_[i].score(x_teste,y_teste)\n",
    "    print(f'O K-Nearest neighbors k={knn_[i].n_neighbors} conseguiu prever {100*pont_knn[i]:.4}% das amostras')\n",
    "    print(f'\\nConfusion Matrix: \\n {CM_knn[i]}')"
   ]
  },
  {
   "cell_type": "markdown",
   "execution_count": null,
   "metadata": {},
   "outputs": [],
   "source": [
    "## 2.3 - Support Vector Machine"
   ]
  },
  {
   "cell_type": "code",
   "execution_count": 63,
   "metadata": {},
   "outputs": [],
   "source": [
    "#fazer SVM, Rede neural e talvez o SVM network"
   ]
  }
 ]
}